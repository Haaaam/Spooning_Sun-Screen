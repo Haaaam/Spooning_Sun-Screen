{
 "cells": [
  {
   "cell_type": "code",
   "execution_count": 1,
   "metadata": {},
   "outputs": [],
   "source": [
    "import requests\n",
    "from bs4 import BeautifulSoup as bs\n",
    "import pandas as pd\n",
    "import urllib.request\n",
    "import re\n",
    "import os"
   ]
  },
  {
   "cell_type": "code",
   "execution_count": 2,
   "metadata": {},
   "outputs": [],
   "source": [
    "def search_blog(keyword,display,start):\n",
    "    url=\"https://openapi.naver.com/v1/search/blog.json?query=\"+keyword\n",
    "    url+=\"&display\"+str(display)+\"&start=\"+str(start)\n",
    "    headers={\"X-Naver-Client-Id\":\"27Ajj0rHmLFO5d5Mxfsb\", \n",
    "             \"X-Naver-Client-Secret\":\"tO8tLDsUr5\"}\n",
    "    res=requests.get(url,headers=headers)\n",
    "    if res.status_code==200:\n",
    "        return res.json()\n",
    "    else:\n",
    "        return\n",
    "    "
   ]
  },
  {
   "cell_type": "code",
   "execution_count": 3,
   "metadata": {},
   "outputs": [
    {
     "name": "stdout",
     "output_type": "stream",
     "text": [
      "키워드를 입력하세요:스킨푸드\n"
     ]
    }
   ],
   "source": [
    "keyword=input('키워드를 입력하세요:')\n",
    "data=[]\n",
    "\n",
    "\n",
    "for i in range(1,1000,100):\n",
    "    items=search_blog(keyword,100,i)['items']\n",
    "    for j in items:\n",
    "        link=j['link']\n",
    "        date=j['date']\n",
    "        if 'blog.naver.com' in link:\n",
    "            data.append(link)\n",
    "        else:\n",
    "            pass\n"
   ]
  },
  {
   "cell_type": "code",
   "execution_count": 4,
   "metadata": {},
   "outputs": [
    {
     "name": "stdout",
     "output_type": "stream",
     "text": [
      "1135\n"
     ]
    }
   ],
   "source": [
    "import re\n",
    "f=open('./블로그_'+keyword+'.txt', 'w')\n",
    "cnt=0\n",
    "\n",
    "for b_href in data:\n",
    "    blog_html=requests.get(b_href)\n",
    "    blog_soup=bs(blog_html.content,'html.parser')\n",
    "    view_src=blog_soup.find('iframe')['src']\n",
    "    sub_url='http://blog.naver.com'+view_src\n",
    "    html_sub=requests.get(sub_url)\n",
    "    soup_sub=bs(html_sub.content, 'html.parser')\n",
    "    blog_p=soup_sub.find_all('div',class_=\"se-module se-module-text\")\n",
    "\n",
    "    tot_txt_list=[]\n",
    "\n",
    "    if len(blog_p) !=0:\n",
    "        for prn in blog_p:\n",
    "            txt=prn.text\n",
    "            txt=txt.replace('\\n\\n\\n','').replace('\\n\\n','')\n",
    "            txt=txt.replace('\\u200b','')\n",
    "            txt=txt.replace('\\U0001f1e8', '')\n",
    "            txt=re.sub('[a-zA-Z]', '',txt)\n",
    "            txt=re.sub('[\\{\\}\\[\\]\\/?.,;:|\\)【】▲▶◇ⓒⓒ■*~`!^\\-_+<>@\\#$%&\\\\\\=\\(\\'\\\"]', '',txt)\n",
    "            #print(txt)\n",
    "            cnt=cnt+1\n",
    "            if txt !='':\n",
    "                try:\n",
    "                    f.write(txt)\n",
    "                except:\n",
    "                    pass\n",
    "                        \n",
    "f.close()\n",
    "print(cnt)"
   ]
  },
  {
   "cell_type": "code",
   "execution_count": null,
   "metadata": {},
   "outputs": [],
   "source": []
  }
 ],
 "metadata": {
  "kernelspec": {
   "display_name": "Python 3",
   "language": "python",
   "name": "python3"
  },
  "language_info": {
   "codemirror_mode": {
    "name": "ipython",
    "version": 3
   },
   "file_extension": ".py",
   "mimetype": "text/x-python",
   "name": "python",
   "nbconvert_exporter": "python",
   "pygments_lexer": "ipython3",
   "version": "3.8.5"
  }
 },
 "nbformat": 4,
 "nbformat_minor": 4
}
