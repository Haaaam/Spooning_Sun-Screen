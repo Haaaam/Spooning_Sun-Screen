{
 "cells": [
  {
   "cell_type": "code",
   "execution_count": 1,
   "metadata": {},
   "outputs": [],
   "source": [
    "import requests\n",
    "from bs4 import BeautifulSoup as bs\n",
    "import pandas as pd\n",
    "import urllib.request\n",
    "import re\n",
    "import os"
   ]
  },
  {
   "cell_type": "code",
   "execution_count": 2,
   "metadata": {},
   "outputs": [],
   "source": [
    "def search_blog(keyword,display,start):\n",
    "    url=\"https://openapi.naver.com/v1/search/blog.json?query=\"+keyword\n",
    "    url+=\"&display\"+str(display)+\"&start=\"+str(start)\n",
    "    headers={\"X-Naver-Client-Id\":\"27Ajj0rHmLFO5d5Mxfsb\", \n",
    "             \"X-Naver-Client-Secret\":\"tO8tLDsUr5\"}\n",
    "    res=requests.get(url,headers=headers)\n",
    "    if res.status_code==200:\n",
    "        return res.json()\n",
    "    else:\n",
    "        return\n",
    "    "
   ]
  },
  {
   "cell_type": "code",
   "execution_count": 3,
   "metadata": {},
   "outputs": [
    {
     "name": "stdout",
     "output_type": "stream",
     "text": [
      "키워드를 입력하세요:선크림 spf 조작\n"
     ]
    }
   ],
   "source": [
    "keyword=input('키워드를 입력하세요:')\n",
    "data=[]\n",
    "\n",
    "\n",
    "for i in range(1,1000,100):\n",
    "    items=search_blog(keyword,100,i)['items']\n",
    "    for j in items:\n",
    "        link=j['link']\n",
    "        if 'blog.naver.com' in link:\n",
    "            data.append(link)\n",
    "        else:\n",
    "            pass\n"
   ]
  },
  {
   "cell_type": "code",
   "execution_count": 5,
   "metadata": {},
   "outputs": [
    {
     "name": "stdout",
     "output_type": "stream",
     "text": [
      "351\n"
     ]
    }
   ],
   "source": [
    "import re\n",
    "f=open('./블로그_'+keyword+'.txt', 'w')\n",
    "cnt=0\n",
    "\n",
    "for b_href in data:\n",
    "    blog_html=requests.get(b_href)\n",
    "    blog_soup=bs(blog_html.content,'html.parser')\n",
    "    view_src=blog_soup.find('iframe')['src']\n",
    "    sub_url='http://blog.naver.com'+view_src\n",
    "    html_sub=requests.get(sub_url)\n",
    "    soup_sub=bs(html_sub.content, 'html.parser')\n",
    "    blog_p=soup_sub.find_all('div',class_=\"se-module se-module-text\")\n",
    "\n",
    "    tot_txt_list=[]\n",
    "\n",
    "    if len(blog_p) !=0:\n",
    "        for prn in blog_p:\n",
    "            txt=prn.text\n",
    "            txt=txt.replace('\\n\\n\\n','').replace('\\n\\n','')\n",
    "            txt=txt.replace('\\u200b','')\n",
    "            txt=txt.replace('\\U0001f1e8', '')\n",
    "            txt=re.sub('[a-zA-Z]', '',txt)\n",
    "            txt=re.sub('[\\{\\}\\[\\]\\/?.,;:|\\)【】▲▶◇ⓒⓒ■*~`!^\\-_+<>@\\#$%&\\\\\\=\\(\\'\\\"]', '',txt)\n",
    "            #print(txt)\n",
    "            cnt=cnt+1\n",
    "            if txt !='':\n",
    "                try:\n",
    "                    f.write(txt)\n",
    "                except:\n",
    "                    pass\n",
    "                        \n",
    "f.close()\n",
    "print(cnt)"
   ]
  },
  {
   "cell_type": "markdown",
   "metadata": {},
   "source": [
    " ### 스킨푸드 비건 라인 화장품 관련 데이터 이용하여 연관어 분석"
   ]
  },
  {
   "cell_type": "code",
   "execution_count": 42,
   "metadata": {},
   "outputs": [],
   "source": [
    "%matplotlib inline\n",
    "import matplotlib.pyplot as plt\n",
    "\n",
    "import pandas as pd\n",
    "import numpy as np\n",
    "import warnings\n"
   ]
  },
  {
   "cell_type": "code",
   "execution_count": 13,
   "metadata": {},
   "outputs": [
    {
     "name": "stdout",
     "output_type": "stream",
     "text": [
      "(3172, 1)\n"
     ]
    },
    {
     "data": {
      "text/html": [
       "<div>\n",
       "<style scoped>\n",
       "    .dataframe tbody tr th:only-of-type {\n",
       "        vertical-align: middle;\n",
       "    }\n",
       "\n",
       "    .dataframe tbody tr th {\n",
       "        vertical-align: top;\n",
       "    }\n",
       "\n",
       "    .dataframe thead th {\n",
       "        text-align: right;\n",
       "    }\n",
       "</style>\n",
       "<table border=\"1\" class=\"dataframe\">\n",
       "  <thead>\n",
       "    <tr style=\"text-align: right;\">\n",
       "      <th></th>\n",
       "      <th>본문</th>\n",
       "    </tr>\n",
       "  </thead>\n",
       "  <tbody>\n",
       "    <tr>\n",
       "      <th>0</th>\n",
       "      <td>예전만 해도 얼굴이 칙칙해 보이는 건수분이 부족하기 때문에 일시적으로 나타나는모습인...</td>\n",
       "    </tr>\n",
       "    <tr>\n",
       "      <th>1</th>\n",
       "      <td>세상에 영원한 건 없다고 특히 스킨케어는관리를 하면 할수록 지금 당장 보다 나중에 ...</td>\n",
       "    </tr>\n",
       "    <tr>\n",
       "      <th>2</th>\n",
       "      <td>스킨푸드는 피부에 좋은 푸드로 만든 화장품이라매번 성분에서부터 마음이 놓이곤 했었는...</td>\n",
       "    </tr>\n",
       "    <tr>\n",
       "      <th>3</th>\n",
       "      <td>스킨푸드 유자  잡티 맑음 에센스150 ｜ 34000원</td>\n",
       "    </tr>\n",
       "    <tr>\n",
       "      <th>4</th>\n",
       "      <td>처음 만났을 때부터 투명한 용기 안으로보이는 노란빛이 참으로 맑고 예쁘다란생각이 들...</td>\n",
       "    </tr>\n",
       "    <tr>\n",
       "      <th>...</th>\n",
       "      <td>...</td>\n",
       "    </tr>\n",
       "    <tr>\n",
       "      <th>3167</th>\n",
       "      <td>내가 뽑은 닥터지레드블레미쉬클리어크림  2</td>\n",
       "    </tr>\n",
       "    <tr>\n",
       "      <th>3168</th>\n",
       "      <td>닥터지 레드 블레미쉬 클리어 수딩 크림 50 2개</td>\n",
       "    </tr>\n",
       "    <tr>\n",
       "      <th>3169</th>\n",
       "      <td>고운세상 닥터지 레드 블레미쉬 클리어 수딩 크림 2개 70</td>\n",
       "    </tr>\n",
       "    <tr>\n",
       "      <th>3170</th>\n",
       "      <td>종합 김호중 병역기피 논란→4급 판정…사유는 비폐색 등  42938651595335...</td>\n",
       "    </tr>\n",
       "    <tr>\n",
       "      <th>3171</th>\n",
       "      <td>김호중 전 매니저 일방적 폭로로 ‘지끈지끈’  병역 논란 끝에 재검 결과는 4급 판...</td>\n",
       "    </tr>\n",
       "  </tbody>\n",
       "</table>\n",
       "<p>3172 rows × 1 columns</p>\n",
       "</div>"
      ],
      "text/plain": [
       "                                                     본문\n",
       "0     예전만 해도 얼굴이 칙칙해 보이는 건수분이 부족하기 때문에 일시적으로 나타나는모습인...\n",
       "1     세상에 영원한 건 없다고 특히 스킨케어는관리를 하면 할수록 지금 당장 보다 나중에 ...\n",
       "2     스킨푸드는 피부에 좋은 푸드로 만든 화장품이라매번 성분에서부터 마음이 놓이곤 했었는...\n",
       "3                        스킨푸드 유자  잡티 맑음 에센스150 ｜ 34000원\n",
       "4     처음 만났을 때부터 투명한 용기 안으로보이는 노란빛이 참으로 맑고 예쁘다란생각이 들...\n",
       "...                                                 ...\n",
       "3167                          내가 뽑은 닥터지레드블레미쉬클리어크림  2  \n",
       "3168                      닥터지 레드 블레미쉬 클리어 수딩 크림 50 2개  \n",
       "3169                 고운세상 닥터지 레드 블레미쉬 클리어 수딩 크림 2개 70  \n",
       "3170  종합 김호중 병역기피 논란→4급 판정…사유는 비폐색 등  42938651595335...\n",
       "3171  김호중 전 매니저 일방적 폭로로 ‘지끈지끈’  병역 논란 끝에 재검 결과는 4급 판...\n",
       "\n",
       "[3172 rows x 1 columns]"
      ]
     },
     "metadata": {},
     "output_type": "display_data"
    }
   ],
   "source": [
    "warnings.filterwarnings(\"ignore\")\n",
    "\n",
    "df=pd.read_csv('./data/스킨푸드.csv',encoding='cp949')\n",
    "print(df.shape)\n",
    "display(df)"
   ]
  },
  {
   "cell_type": "code",
   "execution_count": 17,
   "metadata": {},
   "outputs": [
    {
     "name": "stdout",
     "output_type": "stream",
     "text": [
      "(2632, 1)\n"
     ]
    }
   ],
   "source": [
    "df=df.drop_duplicates()#중복데이터 제거\n",
    "print(df.shape)"
   ]
  },
  {
   "cell_type": "code",
   "execution_count": 18,
   "metadata": {},
   "outputs": [
    {
     "data": {
      "text/html": [
       "<div>\n",
       "<style scoped>\n",
       "    .dataframe tbody tr th:only-of-type {\n",
       "        vertical-align: middle;\n",
       "    }\n",
       "\n",
       "    .dataframe tbody tr th {\n",
       "        vertical-align: top;\n",
       "    }\n",
       "\n",
       "    .dataframe thead th {\n",
       "        text-align: right;\n",
       "    }\n",
       "</style>\n",
       "<table border=\"1\" class=\"dataframe\">\n",
       "  <thead>\n",
       "    <tr style=\"text-align: right;\">\n",
       "      <th></th>\n",
       "      <th>본문</th>\n",
       "    </tr>\n",
       "  </thead>\n",
       "  <tbody>\n",
       "    <tr>\n",
       "      <th>0</th>\n",
       "      <td>예전만 해도 얼굴이 칙칙해 보이는 건수분이 부족하기 때문에 일시적으로 나타나는모습인...</td>\n",
       "    </tr>\n",
       "    <tr>\n",
       "      <th>1</th>\n",
       "      <td>세상에 영원한 건 없다고 특히 스킨케어는관리를 하면 할수록 지금 당장 보다 나중에 ...</td>\n",
       "    </tr>\n",
       "    <tr>\n",
       "      <th>2</th>\n",
       "      <td>스킨푸드는 피부에 좋은 푸드로 만든 화장품이라매번 성분에서부터 마음이 놓이곤 했었는...</td>\n",
       "    </tr>\n",
       "    <tr>\n",
       "      <th>3</th>\n",
       "      <td>스킨푸드 유자  잡티 맑음 에센스150 ｜ 34000원</td>\n",
       "    </tr>\n",
       "    <tr>\n",
       "      <th>4</th>\n",
       "      <td>처음 만났을 때부터 투명한 용기 안으로보이는 노란빛이 참으로 맑고 예쁘다란생각이 들...</td>\n",
       "    </tr>\n",
       "    <tr>\n",
       "      <th>...</th>\n",
       "      <td>...</td>\n",
       "    </tr>\n",
       "    <tr>\n",
       "      <th>3082</th>\n",
       "      <td>요즘 아주 핫한 네고왕이번 네고왕에는 스킨푸드가 나왔는데가격도 창고대방출 점포정리 ...</td>\n",
       "    </tr>\n",
       "    <tr>\n",
       "      <th>3083</th>\n",
       "      <td>그동안 네고왕 너무 핫해서 네고왕  기간에는기다리는것도 주문하는것도 힘들어서 그냥 ...</td>\n",
       "    </tr>\n",
       "    <tr>\n",
       "      <th>3084</th>\n",
       "      <td>어떤 제품이든 7000원에 구매할 수 있는 쿠폰을아이디당 3장씩 주다보니 가장 인기...</td>\n",
       "    </tr>\n",
       "    <tr>\n",
       "      <th>3085</th>\n",
       "      <td>밤에는 로그인이 안되더니 느리지만 로그인도 되고결제창 넘어가면서 로그인이 3번정도 ...</td>\n",
       "    </tr>\n",
       "    <tr>\n",
       "      <th>3086</th>\n",
       "      <td>이것저것 둘러볼 여유가없어 베스트눌러서 너도나도 많이 구매하는로열허니 프로폴리스 인...</td>\n",
       "    </tr>\n",
       "  </tbody>\n",
       "</table>\n",
       "<p>2632 rows × 1 columns</p>\n",
       "</div>"
      ],
      "text/plain": [
       "                                                     본문\n",
       "0     예전만 해도 얼굴이 칙칙해 보이는 건수분이 부족하기 때문에 일시적으로 나타나는모습인...\n",
       "1     세상에 영원한 건 없다고 특히 스킨케어는관리를 하면 할수록 지금 당장 보다 나중에 ...\n",
       "2     스킨푸드는 피부에 좋은 푸드로 만든 화장품이라매번 성분에서부터 마음이 놓이곤 했었는...\n",
       "3                        스킨푸드 유자  잡티 맑음 에센스150 ｜ 34000원\n",
       "4     처음 만났을 때부터 투명한 용기 안으로보이는 노란빛이 참으로 맑고 예쁘다란생각이 들...\n",
       "...                                                 ...\n",
       "3082  요즘 아주 핫한 네고왕이번 네고왕에는 스킨푸드가 나왔는데가격도 창고대방출 점포정리 ...\n",
       "3083  그동안 네고왕 너무 핫해서 네고왕  기간에는기다리는것도 주문하는것도 힘들어서 그냥 ...\n",
       "3084  어떤 제품이든 7000원에 구매할 수 있는 쿠폰을아이디당 3장씩 주다보니 가장 인기...\n",
       "3085  밤에는 로그인이 안되더니 느리지만 로그인도 되고결제창 넘어가면서 로그인이 3번정도 ...\n",
       "3086  이것저것 둘러볼 여유가없어 베스트눌러서 너도나도 많이 구매하는로열허니 프로폴리스 인...\n",
       "\n",
       "[2632 rows x 1 columns]"
      ]
     },
     "metadata": {},
     "output_type": "display_data"
    }
   ],
   "source": [
    "display(df)"
   ]
  },
  {
   "cell_type": "code",
   "execution_count": null,
   "metadata": {},
   "outputs": [],
   "source": []
  }
 ],
 "metadata": {
  "kernelspec": {
   "display_name": "Python 3",
   "language": "python",
   "name": "python3"
  },
  "language_info": {
   "codemirror_mode": {
    "name": "ipython",
    "version": 3
   },
   "file_extension": ".py",
   "mimetype": "text/x-python",
   "name": "python",
   "nbconvert_exporter": "python",
   "pygments_lexer": "ipython3",
   "version": "3.8.5"
  }
 },
 "nbformat": 4,
 "nbformat_minor": 4
}
