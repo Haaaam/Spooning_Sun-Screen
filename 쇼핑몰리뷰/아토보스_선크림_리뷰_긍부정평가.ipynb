{
  "nbformat": 4,
  "nbformat_minor": 0,
  "metadata": {
    "colab": {
      "name": "아토보스 선크림  리뷰 긍부정평가.ipynb",
      "private_outputs": true,
      "provenance": []
    },
    "kernelspec": {
      "name": "python3",
      "display_name": "Python 3"
    },
    "language_info": {
      "name": "python"
    }
  },
  "cells": [
    {
      "cell_type": "code",
      "metadata": {
        "id": "zbS08c1uMYOT"
      },
      "source": [
        "cd /content/drive/MyDrive/스킨푸드"
      ],
      "execution_count": null,
      "outputs": []
    },
    {
      "cell_type": "code",
      "metadata": {
        "id": "xFBME0ry62Kd"
      },
      "source": [
        "!pip install nltk"
      ],
      "execution_count": null,
      "outputs": []
    },
    {
      "cell_type": "code",
      "metadata": {
        "id": "Ur9OISayPVsy"
      },
      "source": [
        "!pip install selenium"
      ],
      "execution_count": null,
      "outputs": []
    },
    {
      "cell_type": "code",
      "metadata": {
        "id": "nkJ-ZzFXPcZs"
      },
      "source": [
        "!pip install konlpy"
      ],
      "execution_count": null,
      "outputs": []
    },
    {
      "cell_type": "code",
      "metadata": {
        "id": "PbBBEi9VRKn4"
      },
      "source": [
        "!pip install wordCloud\n",
        "# 글꼴 설치\n",
        "!sudo apt-get install -y fonts-nanum\n",
        "!sudo fc-cache -fv\n",
        "!rm ~/.cache/matplotlib -rf"
      ],
      "execution_count": null,
      "outputs": []
    },
    {
      "cell_type": "code",
      "metadata": {
        "id": "w2RCL0aSOhYZ"
      },
      "source": [
        "from pprint import pprint\n",
        "import pandas as pd\n",
        "from selenium import webdriver\n",
        "import re\n",
        "import os\n",
        "from wordcloud import WordCloud\n",
        "import matplotlib.pyplot as plt\n",
        "from konlpy.tag import Okt\n",
        "import nltk\n",
        "from collections import Counter\n"
      ],
      "execution_count": null,
      "outputs": []
    },
    {
      "cell_type": "code",
      "metadata": {
        "id": "n-dVZIWCPiGV"
      },
      "source": [
        "fdir='./data2/'\n",
        "fname=os.listdir(fdir)\n",
        "print(fname)"
      ],
      "execution_count": null,
      "outputs": []
    },
    {
      "cell_type": "code",
      "metadata": {
        "id": "_lxc9O0qPnYn"
      },
      "source": [
        "f=open(fdir+fname[8],'r',encoding='cp949')\n",
        "word_text=f.read()"
      ],
      "execution_count": null,
      "outputs": []
    },
    {
      "cell_type": "code",
      "metadata": {
        "id": "K_DrIETzP027"
      },
      "source": [
        "okt=Okt()\n",
        "wt=okt.pos(word_text)\n",
        "wt"
      ],
      "execution_count": null,
      "outputs": []
    },
    {
      "cell_type": "code",
      "metadata": {
        "id": "-tihHFgoQa2t"
      },
      "source": [
        "wt_lst=[]\n",
        "for pos in wt:\n",
        "  if pos[1]=='Noun' or pos[1]=='Adjective' or pos[1]=='Adverb': wt_lst.append(pos[0])\n",
        "wt_text=nltk.Text(wt_lst)\n",
        "wt_lst"
      ],
      "execution_count": null,
      "outputs": []
    },
    {
      "cell_type": "code",
      "metadata": {
        "id": "Xlo4qwjmRJ4C"
      },
      "source": [
        "stop_words=['아토','보스','좋아요','구매','쿠션','배송','때','아직','개','좋고','좋네요','쓰기','화장','에스','것','없고','몽디'\n",
        ",'주문','좋아하네요','기도','사용','거','제품','저','우리','입니다','샘플','아이','아기','용','썬크림','선크림','만족합니다','원','리뷰','다','선','포토','제','빠르고','좋아서','좋은','애','요','시','있어요','일단','좀','후기','좋아해요','탁','너무','같아요']\n",
        "wt_cls_word=[wtcl for wtcl in wt_text if wtcl not in stop_words]\n",
        "wt_cnt=Counter(wt_cls_word)\n",
        "wt_rank=wt_cnt.most_common()"
      ],
      "execution_count": null,
      "outputs": []
    },
    {
      "cell_type": "code",
      "metadata": {
        "id": "evID4NB9VPji"
      },
      "source": [
        "from matplotlib import rc\n",
        "font=rc('font',family='NanumBarunGothic')\n",
        "\n",
        "wc=WordCloud(font_path='NanumBarunGothic',\n",
        "             background_color='black',width=500,height=500,\n",
        "             max_words=50,max_font_size=300).generate_from_frequencies(wt_cnt)\n",
        "plt.figure(figsize=(10,10))\n",
        "plt.imshow(wc)\n",
        "plt.axis('off')\n",
        "plt.show()"
      ],
      "execution_count": null,
      "outputs": []
    },
    {
      "cell_type": "code",
      "metadata": {
        "id": "mkDXhOdNV4wQ"
      },
      "source": [
        "df1=pd.DataFrame(wt_rank,columns=['평점','본문'])\n",
        "df1.head()"
      ],
      "execution_count": null,
      "outputs": []
    },
    {
      "cell_type": "markdown",
      "metadata": {
        "id": "9VrGV-q2XfsY"
      },
      "source": [
        "### 긍정리뷰 워드클라우드"
      ]
    },
    {
      "cell_type": "code",
      "metadata": {
        "id": "ka8E_-5zXhd9"
      },
      "source": [
        "from textblob import TextBlob as tb\n",
        "from textblob.classifiers import NaiveBayesClassifier\n",
        "import nltk\n",
        "nltk.download('punkt')\n"
      ],
      "execution_count": null,
      "outputs": []
    },
    {
      "cell_type": "code",
      "metadata": {
        "id": "ctwLZLFjXpa-"
      },
      "source": [
        "df_train=pd.read_csv('./data2/리뷰 긍부정 사전.csv',encoding='cp949')\n",
        "df_train.head()"
      ],
      "execution_count": null,
      "outputs": []
    },
    {
      "cell_type": "code",
      "metadata": {
        "id": "2qP_QPfBjZGo"
      },
      "source": [
        "t=[(df_train.iloc[i,0],df_train.iloc[i,1])for i in range(len(df_train))]\n",
        "t"
      ],
      "execution_count": null,
      "outputs": []
    },
    {
      "cell_type": "code",
      "metadata": {
        "id": "1dtstqC9jzhT"
      },
      "source": [
        "pos_neg=NaiveBayesClassifier(t)\n",
        "pos_neg"
      ],
      "execution_count": null,
      "outputs": []
    },
    {
      "cell_type": "code",
      "metadata": {
        "id": "V9hXzApSj3q9"
      },
      "source": [
        "df_review=pd.read_csv('./data2/아토보스 인리치드 무기자차 선크림.csv',encoding='cp949')\n",
        "\n",
        "df_review=df_review.drop(columns=['Unnamed: 0'])\n",
        "df_review.head(10)"
      ],
      "execution_count": null,
      "outputs": []
    },
    {
      "cell_type": "code",
      "metadata": {
        "id": "fMdPrVko9F1C"
      },
      "source": [
        "pn=[]\n",
        "for i in df_review['본문']:\n",
        "  tag=tb(str(i),classifier=pos_neg)\n",
        "  pn.append(tag.classify())\n",
        "len(pn)"
      ],
      "execution_count": null,
      "outputs": []
    },
    {
      "cell_type": "code",
      "metadata": {
        "id": "HMGgYEx89-b-"
      },
      "source": [
        "df_review['긍부정']=pn\n",
        "print('긍정인 리뷰:', df_review[df_review['긍부정']=='긍정']['본문'].count())\n",
        "print('부정인 리뷰:', df_review[df_review['긍부정']=='부정']['본문'].count())"
      ],
      "execution_count": null,
      "outputs": []
    },
    {
      "cell_type": "code",
      "metadata": {
        "id": "xiwW4NEoECJf"
      },
      "source": [
        "df_review"
      ],
      "execution_count": null,
      "outputs": []
    },
    {
      "cell_type": "code",
      "metadata": {
        "id": "aBlKynuI-kt9"
      },
      "source": [
        "df_pos=df_review[df_review['긍부정']=='긍정']['본문']\n",
        "df_pos=pd.DataFrame(df_pos)\n",
        "df_pos"
      ],
      "execution_count": null,
      "outputs": []
    },
    {
      "cell_type": "code",
      "metadata": {
        "id": "7Dlt83c7CqpC"
      },
      "source": [
        "review_pos_txt=''\n",
        "for txt in df_pos['본문']:\n",
        "  review_pos_txt+=txt\n",
        "print(review_pos_txt)\n"
      ],
      "execution_count": null,
      "outputs": []
    },
    {
      "cell_type": "code",
      "metadata": {
        "id": "a3prrpd6EL0Q"
      },
      "source": [
        "wt=okt.pos(review_pos_txt)\n",
        "wt_lst=[]\n",
        "for pos in wt:\n",
        "  if pos[1]=='Noun' or pos[1]=='Adjective' or pos[1]=='Adverb':wt_lst.append(pos[0])"
      ],
      "execution_count": null,
      "outputs": []
    },
    {
      "cell_type": "code",
      "metadata": {
        "id": "9qhjBUy6Ev8F"
      },
      "source": [
        "wt_txt=nltk.Text(wt_lst)\n",
        "stop_words=['계속','발라','없이','생각','쓰기','전','또','처음','좋아요','후기','더','구매','아이','배송','같아요','선크림','아직','개','리뷰','것','너무','포토','좋은','좋네요','많이','아토',\n",
        "            '사용','빠르고','가격','같이','있어요','입니다','제품','제','맘','구입','상품','추천','썬크림','아기','저','용','주문','만족합니다','보스','탁','거','때','끈','다','보고','없고','아직','개','것','좀','좋고','검색','외출','안','이']\n",
        "wt_cls_word=[wtcl for wtcl in wt_txt if wtcl not in stop_words]\n",
        "wt_cnt1=Counter(wt_cls_word)\n",
        "wt_cnt1.most_common()"
      ],
      "execution_count": null,
      "outputs": []
    },
    {
      "cell_type": "code",
      "metadata": {
        "id": "VnO-x_yPFHrM"
      },
      "source": [
        "from matplotlib import rc\n",
        "font=rc('font',family='NanumBarunGothic')\n",
        "\n",
        "wc=WordCloud(font_path='NanumBarunGothic',\n",
        "             background_color='black',width=500,height=500,\n",
        "             max_words=50,max_font_size=300).generate_from_frequencies(wt_cnt1)\n",
        "plt.figure(figsize=(10,10))\n",
        "plt.imshow(wc)\n",
        "plt.axis('off')\n",
        "plt.show()\n"
      ],
      "execution_count": null,
      "outputs": []
    },
    {
      "cell_type": "code",
      "metadata": {
        "id": "OmtYKeQIHhr-"
      },
      "source": [
        "wt_rank1=wt_cnt1.most_common()\n",
        "df_rank=pd.DataFrame(wt_rank1,columns=['단어','빈도수'])\n",
        "df_rank.head(20)\n"
      ],
      "execution_count": null,
      "outputs": []
    },
    {
      "cell_type": "code",
      "metadata": {
        "id": "BX6DREBoJRWG"
      },
      "source": [
        ""
      ],
      "execution_count": null,
      "outputs": []
    }
  ]
}