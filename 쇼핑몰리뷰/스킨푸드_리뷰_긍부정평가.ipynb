{
  "nbformat": 4,
  "nbformat_minor": 0,
  "metadata": {
    "colab": {
      "name": "스킨푸드  리뷰 긍부정평가.ipynb",
      "private_outputs": true,
      "provenance": [],
      "collapsed_sections": [],
      "toc_visible": true
    },
    "kernelspec": {
      "name": "python3",
      "display_name": "Python 3"
    },
    "language_info": {
      "name": "python"
    }
  },
  "cells": [
    {
      "cell_type": "code",
      "metadata": {
        "id": "zbS08c1uMYOT"
      },
      "source": [
        "cd /content/drive/MyDrive/스킨푸드"
      ],
      "execution_count": null,
      "outputs": []
    },
    {
      "cell_type": "code",
      "metadata": {
        "id": "xFBME0ry62Kd"
      },
      "source": [
        "!pip install nltk"
      ],
      "execution_count": null,
      "outputs": []
    },
    {
      "cell_type": "code",
      "metadata": {
        "id": "Ur9OISayPVsy"
      },
      "source": [
        "!pip install selenium"
      ],
      "execution_count": null,
      "outputs": []
    },
    {
      "cell_type": "code",
      "metadata": {
        "id": "nkJ-ZzFXPcZs"
      },
      "source": [
        "!pip install konlpy"
      ],
      "execution_count": null,
      "outputs": []
    },
    {
      "cell_type": "code",
      "metadata": {
        "id": "PbBBEi9VRKn4"
      },
      "source": [
        "!pip install wordCloud\n",
        "# 글꼴 설치\n",
        "!sudo apt-get install -y fonts-nanum\n",
        "!sudo fc-cache -fv\n",
        "!rm ~/.cache/matplotlib -rf"
      ],
      "execution_count": null,
      "outputs": []
    },
    {
      "cell_type": "code",
      "metadata": {
        "id": "w2RCL0aSOhYZ"
      },
      "source": [
        "from pprint import pprint\n",
        "import pandas as pd\n",
        "from selenium import webdriver\n",
        "import re\n",
        "import os\n",
        "from wordcloud import WordCloud\n",
        "import matplotlib.pyplot as plt\n",
        "from konlpy.tag import Okt\n",
        "import nltk\n",
        "from collections import Counter\n"
      ],
      "execution_count": null,
      "outputs": []
    },
    {
      "cell_type": "code",
      "metadata": {
        "id": "n-dVZIWCPiGV"
      },
      "source": [
        "fdir='./data2/'\n",
        "fname=os.listdir(fdir)\n",
        "print(fname)"
      ],
      "execution_count": null,
      "outputs": []
    },
    {
      "cell_type": "code",
      "metadata": {
        "id": "_lxc9O0qPnYn"
      },
      "source": [
        "f=open(fdir+fname[9],'r',encoding='cp949')\n",
        "word_text=f.read()"
      ],
      "execution_count": null,
      "outputs": []
    },
    {
      "cell_type": "code",
      "metadata": {
        "id": "K_DrIETzP027"
      },
      "source": [
        "okt=Okt()\n",
        "wt=okt.pos(word_text)\n",
        "wt"
      ],
      "execution_count": null,
      "outputs": []
    },
    {
      "cell_type": "code",
      "metadata": {
        "id": "-tihHFgoQa2t"
      },
      "source": [
        "wt_lst=[]\n",
        "for pos in wt:\n",
        "  if pos[1]=='Noun' or pos[1]=='Adjective' or pos[1]=='Adverb' or pos[1]=='Verb': wt_lst.append(pos[0])\n",
        "wt_text=nltk.Text(wt_lst)\n",
        "wt_lst"
      ],
      "execution_count": null,
      "outputs": []
    },
    {
      "cell_type": "code",
      "metadata": {
        "id": "Xlo4qwjmRJ4C"
      },
      "source": [
        "search_keyword=['성분','느낌','맑음','추천','수분','보습','효과','좋은','케어','각질','비건','도움','좋아요','뽀송','진정','없이','생각','구매'\n",
        ",'발색','정말','효과','흡수','자극','없이','향','추출']\n",
        "wt_keyword=[txt for txt in wt_lst if txt in search_keyword]\n",
        "count=Counter(wt_keyword)\n",
        "rank_cnt=count.most_common()\n",
        "for i in rank_cnt: print(i)\n",
        "\n",
        "rank_dic=dict(rank_cnt)"
      ],
      "execution_count": null,
      "outputs": []
    },
    {
      "cell_type": "code",
      "metadata": {
        "id": "evID4NB9VPji"
      },
      "source": [
        "from matplotlib import rc\n",
        "font=rc('font',family='NanumBarunGothic')\n",
        "\n",
        "wc=WordCloud(font_path='NanumBarunGothic',\n",
        "             background_color='black',width=300,height=300,\n",
        "             max_words=20,max_font_size=300).generate_from_frequencies(rank_dic)\n",
        "plt.figure(figsize=(10,10))\n",
        "plt.imshow(wc)\n",
        "plt.axis('off')\n",
        "plt.show()"
      ],
      "execution_count": null,
      "outputs": []
    },
    {
      "cell_type": "code",
      "metadata": {
        "id": "mkDXhOdNV4wQ"
      },
      "source": [
        "df1=pd.DataFrame(rank_cnt,columns=['평점','본문'])\n",
        "df1.head()"
      ],
      "execution_count": null,
      "outputs": []
    },
    {
      "cell_type": "markdown",
      "metadata": {
        "id": "9VrGV-q2XfsY"
      },
      "source": [
        "### 긍정리뷰 워드클라우드"
      ]
    },
    {
      "cell_type": "code",
      "metadata": {
        "id": "ka8E_-5zXhd9"
      },
      "source": [
        "from textblob import TextBlob as tb\n",
        "from textblob.classifiers import NaiveBayesClassifier\n",
        "import nltk\n",
        "nltk.download('punkt')\n"
      ],
      "execution_count": null,
      "outputs": []
    },
    {
      "cell_type": "code",
      "metadata": {
        "id": "ctwLZLFjXpa-"
      },
      "source": [
        "df_train=pd.read_csv('./data2/리뷰 긍부정 사전.csv',encoding='cp949')\n",
        "df_train.head()"
      ],
      "execution_count": null,
      "outputs": []
    },
    {
      "cell_type": "code",
      "metadata": {
        "id": "2qP_QPfBjZGo"
      },
      "source": [
        "t=[(df_train.iloc[i,0],df_train.iloc[i,1])for i in range(len(df_train))]\n",
        "t"
      ],
      "execution_count": null,
      "outputs": []
    },
    {
      "cell_type": "code",
      "metadata": {
        "id": "1dtstqC9jzhT"
      },
      "source": [
        "pos_neg=NaiveBayesClassifier(t)\n",
        "pos_neg"
      ],
      "execution_count": null,
      "outputs": []
    },
    {
      "cell_type": "code",
      "metadata": {
        "id": "V9hXzApSj3q9"
      },
      "source": [
        "df_review=pd.read_csv('./data2/스킨푸드.csv',encoding='cp949')\n",
        "\n",
        "\n",
        "df_review.head(10)"
      ],
      "execution_count": null,
      "outputs": []
    },
    {
      "cell_type": "code",
      "metadata": {
        "id": "fMdPrVko9F1C"
      },
      "source": [
        "pn=[]\n",
        "for i in df_review['본문']:\n",
        "  tag=tb(str(i),classifier=pos_neg)\n",
        "  pn.append(tag.classify())\n",
        "len(pn)"
      ],
      "execution_count": null,
      "outputs": []
    },
    {
      "cell_type": "code",
      "metadata": {
        "id": "HMGgYEx89-b-"
      },
      "source": [
        "df_review['긍부정']=pn\n",
        "print('긍정인 리뷰:', df_review[df_review['긍부정']=='긍정']['본문'].count())\n",
        "print('부정인 리뷰:', df_review[df_review['긍부정']=='부정']['본문'].count())"
      ],
      "execution_count": null,
      "outputs": []
    },
    {
      "cell_type": "code",
      "metadata": {
        "id": "xiwW4NEoECJf"
      },
      "source": [
        "df_review"
      ],
      "execution_count": null,
      "outputs": []
    },
    {
      "cell_type": "code",
      "metadata": {
        "id": "aBlKynuI-kt9"
      },
      "source": [
        "df_pos=df_review[df_review['긍부정']=='긍정']['본문']\n",
        "df_pos=pd.DataFrame(df_pos)\n",
        "df_pos"
      ],
      "execution_count": null,
      "outputs": []
    },
    {
      "cell_type": "code",
      "metadata": {
        "id": "7Dlt83c7CqpC"
      },
      "source": [
        "review_pos_txt=''\n",
        "for txt in df_pos['본문']:\n",
        "  review_pos_txt+=txt\n",
        "print(review_pos_txt)\n"
      ],
      "execution_count": null,
      "outputs": []
    },
    {
      "cell_type": "code",
      "metadata": {
        "id": "a3prrpd6EL0Q"
      },
      "source": [
        "wt=okt.pos(review_pos_txt)\n",
        "wt_lst=[]\n",
        "for pos in wt:\n",
        "  if pos[1]=='noun'or pos[1]=='Adverb' or pos[1]=='Adjective' or pos[1]=='Verb':wt_lst.append(pos[0])\n",
        "wt_lst"
      ],
      "execution_count": null,
      "outputs": []
    },
    {
      "cell_type": "code",
      "metadata": {
        "id": "9qhjBUy6Ev8F"
      },
      "source": [
        "wt_txt=nltk.Text(wt_lst)\n",
        "search_word=['좋은','굉장히','편하고','스며즐며','터지며','펴','바를','건강해','느낄','바르고','수월하고요','순하게','필요한','담고','많은','아름다워지기','도와준다는','투명한','깊어지네요','듬뿍듬뿍','팍팍','환해지는','충분하더라구요','만족했는데','좋아하기','편안하게','촉촉하게','엄청','꾸준히','좋고','열심히','착한','부드럽게','쉽게','유명한','쓰는','바르고','해주고','느낄','좋다','덜어','맑고','풍부한','좋아하는','훨씬','닦아','촉촉하고','촉촉함으로','가벼운','시원한','스며들어','바를','건강한','가볍게','다양한','산뜻한','순하게']\n",
        "wt_keyword=[wtcl for wtcl in wt_txt if wtcl in search_word]\n",
        "wt_cnt1=Counter(wt_keyword)\n",
        "rank_cnt=wt_cnt1.most_common()\n",
        "\n",
        "for i in rank_cnt: print(i)\n",
        "\n",
        "rank_dic=dict(rank_cnt)"
      ],
      "execution_count": null,
      "outputs": []
    },
    {
      "cell_type": "code",
      "metadata": {
        "id": "OmtYKeQIHhr-"
      },
      "source": [
        "wt_rank1=wt_cnt1.most_common()\n",
        "df_rank=pd.DataFrame(wt_rank1,columns=['단어','빈도수'])\n",
        "display(df_rank)\n"
      ],
      "execution_count": null,
      "outputs": []
    },
    {
      "cell_type": "code",
      "metadata": {
        "id": "wDGhR4f6F9TS"
      },
      "source": [
        "#matplotlib 한글 폰트 오류 문제 해결\n",
        "from matplotlib import rc\n",
        "from urllib import request\n",
        "from wordcloud import WordCloud,ImageColorGenerator\n",
        "import matplotlib.pyplot as plt\n",
        "from PIL import Image\n",
        "import numpy as np\n",
        "\n",
        "cat_mask=np.array(Image.open('./data2/smile.png'))\n",
        "\n",
        "wc=WordCloud(font_path=\"NanumBarunGothic\",\n",
        "             background_color=\"white\",width=300,height=300,\n",
        "             max_words=50,max_font_size=300,mask=cat_mask).generate_from_frequencies(rank_dic)\n",
        "plt.figure(figsize=(15,15))\n",
        "plt.imshow(wc,interpolation='bilinear')\n",
        "plt.axis('off')\n",
        "plt.show()\n",
        "plt.savefig(\"wordcloud.png\")\n",
        "\n"
      ],
      "execution_count": null,
      "outputs": []
    },
    {
      "cell_type": "code",
      "metadata": {
        "id": "DrxCtGwuJqlP"
      },
      "source": [
        ""
      ],
      "execution_count": null,
      "outputs": []
    }
  ]
}